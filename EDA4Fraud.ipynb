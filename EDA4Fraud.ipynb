{
 "nbformat": 4,
 "nbformat_minor": 2,
 "metadata": {
  "language_info": {
   "name": "python",
   "codemirror_mode": {
    "name": "ipython",
    "version": 3
   },
   "version": "3.7.6-final"
  },
  "orig_nbformat": 2,
  "file_extension": ".py",
  "mimetype": "text/x-python",
  "name": "python",
  "npconvert_exporter": "python",
  "pygments_lexer": "ipython3",
  "version": 3,
  "kernelspec": {
   "name": "python37664bit65f1d81c2e5045759f1441315d1750ed",
   "display_name": "Python 3.7.6 64-bit"
  }
 },
 "cells": [
  {
   "cell_type": "markdown",
   "metadata": {},
   "source": [
    "# Synthetic Financial Datasets For Fraud Detection\n",
    "\n",
    "Kaggle赛题，上传者用“PaySim”——一个综合数据集生成的模拟器，从隐私聚合数据生成一个合成数据集，模拟了移动支付的正常操作，并添加了恶意行为来实施关于支付日志是否属于欺诈行为（即二分类问题，欺诈/正常交易）的预测，评估欺诈检测方法的性能。"
   ]
  },
  {
   "cell_type": "code",
   "execution_count": 83,
   "metadata": {},
   "outputs": [],
   "source": [
    "import pandas as pd\n",
    "import numpy as np"
   ]
  },
  {
   "cell_type": "code",
   "execution_count": 84,
   "metadata": {},
   "outputs": [
    {
     "data": {
      "text/html": "<div>\n<style scoped>\n    .dataframe tbody tr th:only-of-type {\n        vertical-align: middle;\n    }\n\n    .dataframe tbody tr th {\n        vertical-align: top;\n    }\n\n    .dataframe thead th {\n        text-align: right;\n    }\n</style>\n<table border=\"1\" class=\"dataframe\">\n  <thead>\n    <tr style=\"text-align: right;\">\n      <th></th>\n      <th>step</th>\n      <th>type</th>\n      <th>amount</th>\n      <th>nameOrig</th>\n      <th>oldBalanceOrig</th>\n      <th>newBalanceOrig</th>\n      <th>nameDest</th>\n      <th>oldBalanceDest</th>\n      <th>newBalanceDest</th>\n      <th>isFraud</th>\n      <th>isFlaggedFraud</th>\n    </tr>\n  </thead>\n  <tbody>\n    <tr>\n      <th>0</th>\n      <td>1</td>\n      <td>PAYMENT</td>\n      <td>9839.64</td>\n      <td>C1231006815</td>\n      <td>170136.0</td>\n      <td>160296.36</td>\n      <td>M1979787155</td>\n      <td>0.0</td>\n      <td>0.0</td>\n      <td>0</td>\n      <td>0</td>\n    </tr>\n    <tr>\n      <th>1</th>\n      <td>1</td>\n      <td>PAYMENT</td>\n      <td>1864.28</td>\n      <td>C1666544295</td>\n      <td>21249.0</td>\n      <td>19384.72</td>\n      <td>M2044282225</td>\n      <td>0.0</td>\n      <td>0.0</td>\n      <td>0</td>\n      <td>0</td>\n    </tr>\n    <tr>\n      <th>2</th>\n      <td>1</td>\n      <td>TRANSFER</td>\n      <td>181.00</td>\n      <td>C1305486145</td>\n      <td>181.0</td>\n      <td>0.00</td>\n      <td>C553264065</td>\n      <td>0.0</td>\n      <td>0.0</td>\n      <td>1</td>\n      <td>0</td>\n    </tr>\n    <tr>\n      <th>3</th>\n      <td>1</td>\n      <td>CASH_OUT</td>\n      <td>181.00</td>\n      <td>C840083671</td>\n      <td>181.0</td>\n      <td>0.00</td>\n      <td>C38997010</td>\n      <td>21182.0</td>\n      <td>0.0</td>\n      <td>1</td>\n      <td>0</td>\n    </tr>\n    <tr>\n      <th>4</th>\n      <td>1</td>\n      <td>PAYMENT</td>\n      <td>11668.14</td>\n      <td>C2048537720</td>\n      <td>41554.0</td>\n      <td>29885.86</td>\n      <td>M1230701703</td>\n      <td>0.0</td>\n      <td>0.0</td>\n      <td>0</td>\n      <td>0</td>\n    </tr>\n  </tbody>\n</table>\n</div>",
      "text/plain": "   step      type    amount     nameOrig  oldBalanceOrig  newBalanceOrig  \\\n0     1   PAYMENT   9839.64  C1231006815        170136.0       160296.36   \n1     1   PAYMENT   1864.28  C1666544295         21249.0        19384.72   \n2     1  TRANSFER    181.00  C1305486145           181.0            0.00   \n3     1  CASH_OUT    181.00   C840083671           181.0            0.00   \n4     1   PAYMENT  11668.14  C2048537720         41554.0        29885.86   \n\n      nameDest  oldBalanceDest  newBalanceDest  isFraud  isFlaggedFraud  \n0  M1979787155             0.0             0.0        0               0  \n1  M2044282225             0.0             0.0        0               0  \n2   C553264065             0.0             0.0        1               0  \n3    C38997010         21182.0             0.0        1               0  \n4  M1230701703             0.0             0.0        0               0  "
     },
     "execution_count": 84,
     "metadata": {},
     "output_type": "execute_result"
    }
   ],
   "source": [
    "df = pd.read_csv('/Users/x/Downloads/PS_20174392719_1491204439457_log.csv')\n",
    "df = df.rename(columns={'oldbalanceOrg':'oldBalanceOrig', 'newbalanceOrig':'newBalanceOrig', \\\n",
    "                        'oldbalanceDest':'oldBalanceDest', 'newbalanceDest':'newBalanceDest'})\n",
    "df.head()"
   ]
  },
  {
   "cell_type": "code",
   "execution_count": 85,
   "metadata": {},
   "outputs": [
    {
     "data": {
      "text/plain": "(6362620, 11)"
     },
     "execution_count": 85,
     "metadata": {},
     "output_type": "execute_result"
    }
   ],
   "source": [
    "df.shape"
   ]
  },
  {
   "cell_type": "code",
   "execution_count": 86,
   "metadata": {},
   "outputs": [
    {
     "data": {
      "text/plain": "False"
     },
     "execution_count": 86,
     "metadata": {},
     "output_type": "execute_result"
    }
   ],
   "source": [
    "df.isnull().values.any()"
   ]
  },
  {
   "cell_type": "code",
   "execution_count": 87,
   "metadata": {},
   "outputs": [
    {
     "name": "stdout",
     "output_type": "stream",
     "text": "nameOrig     nameDest\n0  C1231006815  M1979787155\n1  C1666544295  M2044282225\n2  C1305486145   C553264065\n3   C840083671    C38997010\n4  C2048537720  M1230701703\n"
    }
   ],
   "source": [
    "dfRel = df.loc[:,['nameOrig','nameDest']]\n",
    "print(dfRel.head())"
   ]
  },
  {
   "cell_type": "code",
   "execution_count": 88,
   "metadata": {},
   "outputs": [
    {
     "name": "stdout",
     "output_type": "stream",
     "text": "\nRepeats of name in nameOrig is \nFalse    6344009\nTrue       18611\nName: nameOrig, dtype: int64\n\nRepeats of name in nameDest is \nTrue     4099916\nFalse    2262704\nName: nameDest, dtype: int64\n"
    }
   ],
   "source": [
    "print('\\nRepeats of name in nameOrig is \\n{}'.format(dfRel.nameOrig.duplicated(keep=False).value_counts()))\n",
    "print('\\nRepeats of name in nameDest is \\n{}'.format(dfRel.nameDest.duplicated(keep=False).value_counts()))"
   ]
  },
  {
   "cell_type": "code",
   "execution_count": 89,
   "metadata": {},
   "outputs": [
    {
     "name": "stdout",
     "output_type": "stream",
     "text": "nameOrig     nameDest\n95        C835773569  C1359044626\n834      C1101598632   C248609774\n835      C1032568028   C667346055\n1241     C1892869131    C33524623\n2165     C1859823482  C1529115495\n...              ...          ...\n6359886   C876817986  M2021251796\n6360204  C1313642079   C927206109\n6360821   C188194996  C1210630308\n6361231  C1170262181  C1991152940\n6362423   C850961884  C1203132980\n\n[18611 rows x 2 columns]\n            nameOrig     nameDest\n2        C1305486145   C553264065\n3         C840083671    C38997010\n9         C712410124   C195600860\n10       C1900366749   C997608398\n15        C905080434   C476402209\n...              ...          ...\n6362611   C994950684  C1662241365\n6362613  C1436118706  C1240760502\n6362615   C786484425   C776919290\n6362617  C1162922333  C1365125890\n6362619  C1280323807   C873221189\n\n[4099916 rows x 2 columns]\n"
    }
   ],
   "source": [
    "repeatedOrig = dfRel[dfRel.nameOrig.duplicated(keep=False)]\n",
    "repeatedDest = dfRel[dfRel.nameDest.duplicated(keep=False)]\n",
    "print(repeatedOrig)\n",
    "print(repeatedDest)"
   ]
  },
  {
   "cell_type": "code",
   "execution_count": 90,
   "metadata": {},
   "outputs": [],
   "source": [
    "repeatedName = pd.concat([repeatedOrig,repeatedDest])"
   ]
  },
  {
   "cell_type": "code",
   "execution_count": 91,
   "metadata": {},
   "outputs": [
    {
     "name": "stdout",
     "output_type": "stream",
     "text": "nameOrig     nameDest\n95        C835773569  C1359044626\n834      C1101598632   C248609774\n835      C1032568028   C667346055\n1241     C1892869131    C33524623\n2165     C1859823482  C1529115495\n...              ...          ...\n6362611   C994950684  C1662241365\n6362613  C1436118706  C1240760502\n6362615   C786484425   C776919290\n6362617  C1162922333  C1365125890\n6362619  C1280323807   C873221189\n\n[4118527 rows x 2 columns]\nFalse\n            nameOrig     nameDest\n95        C835773569  C1359044626\n834      C1101598632   C248609774\n835      C1032568028   C667346055\n1241     C1892869131    C33524623\n2165     C1859823482  C1529115495\n...              ...          ...\n6362611   C994950684  C1662241365\n6362613  C1436118706  C1240760502\n6362615   C786484425   C776919290\n6362617  C1162922333  C1365125890\n6362619  C1280323807   C873221189\n\n[4106555 rows x 2 columns]\n            nameOrig     nameDest\n2        C1305486145   C553264065\n3         C840083671    C38997010\n9         C712410124   C195600860\n10       C1900366749   C997608398\n15        C905080434   C476402209\n...              ...          ...\n6362611   C994950684  C1662241365\n6362613  C1436118706  C1240760502\n6362615   C786484425   C776919290\n6362617  C1162922333  C1365125890\n6362619  C1280323807   C873221189\n\n[4106555 rows x 2 columns]\n"
    }
   ],
   "source": [
    "print(repeatedName)\n",
    "print(repeatedName.index.is_unique) \n",
    "# repeatedNameDup = repeatedName[repeatedName.duplicated(keep=False)]\n",
    "# print(repeatedNameDup)\n",
    "repeatedName_uniq = repeatedName.drop_duplicates()\n",
    "print(repeatedName_uniq)\n",
    "# print(repeatedName_uniq.index.is_unique) \n",
    "repeatedName_uniqSorted = repeatedName_uniq.sort_index()\n",
    "print(repeatedName_uniqSorted)"
   ]
  },
  {
   "cell_type": "code",
   "execution_count": 92,
   "metadata": {},
   "outputs": [],
   "source": [
    "dfRel.to_csv('/Users/x/payRel.csv')"
   ]
  },
  {
   "cell_type": "code",
   "execution_count": 93,
   "metadata": {},
   "outputs": [
    {
     "name": "stdout",
     "output_type": "stream",
     "text": "\n The types of fraudulent transactions are ['TRANSFER', 'CASH_OUT']\n\n The number of fraudulent TRANSFERs = 4097\n\n The number of fraudulent CASH_OUTs = 4116\n"
    }
   ],
   "source": [
    "print('\\n The types of fraudulent transactions are {}'.format(\\\n",
    "list(df.loc[df.isFraud == 1].type.drop_duplicates().values))) # only 'CASH_OUT' & 'TRANSFER'\n",
    "\n",
    "dfFraudTransfer = df.loc[(df.isFraud == 1) & (df.type == 'TRANSFER')]\n",
    "dfFraudCashout = df.loc[(df.isFraud == 1) & (df.type == 'CASH_OUT')]\n",
    "\n",
    "print ('\\n The number of fraudulent TRANSFERs = {}'.\\\n",
    "       format(len(dfFraudTransfer))) # 4097\n",
    "\n",
    "print ('\\n The number of fraudulent CASH_OUTs = {}'.\\\n",
    "       format(len(dfFraudCashout))) # 4116"
   ]
  },
  {
   "cell_type": "code",
   "execution_count": 94,
   "metadata": {},
   "outputs": [
    {
     "name": "stdout",
     "output_type": "stream",
     "text": "\nThe type of transactions in which isFlaggedFraud is set: ['TRANSFER']\n\nMin amount transacted when isFlaggedFraud is set= 353874.22\n\nMax amount transacted in a TRANSFER where isFlaggedFraud is not set= 92445516.64\n"
    }
   ],
   "source": [
    "print('\\nThe type of transactions in which isFlaggedFraud is set: \\\n",
    "{}'.format(list(df.loc[df.isFlaggedFraud == 1].type.drop_duplicates()))) \n",
    "                                                            # only 'TRANSFER'\n",
    "\n",
    "dfTransfer = df.loc[df.type == 'TRANSFER']\n",
    "dfFlagged = df.loc[df.isFlaggedFraud == 1]\n",
    "dfNotFlagged = df.loc[df.isFlaggedFraud == 0]\n",
    "\n",
    "print('\\nMin amount transacted when isFlaggedFraud is set= {}'\\\n",
    "                                  .format(dfFlagged.amount.min())) # 353874.22\n",
    "\n",
    "print('\\nMax amount transacted in a TRANSFER where isFlaggedFraud is not set=\\\n",
    " {}'.format(dfTransfer.loc[dfTransfer.isFlaggedFraud == 0].amount.max())) # 92445516.64"
   ]
  },
  {
   "cell_type": "code",
   "execution_count": 95,
   "metadata": {},
   "outputs": [
    {
     "name": "stdout",
     "output_type": "stream",
     "text": "\nThe number of TRANSFERs where isFlaggedFraud = 0, yet oldBalanceDest = 0 andnewBalanceDest = 0: 4158\n"
    }
   ],
   "source": [
    "print('\\nThe number of TRANSFERs where isFlaggedFraud = 0, yet oldBalanceDest = 0 and\\\n",
    "newBalanceDest = 0: {}'.\\\n",
    "format(len(dfTransfer.loc[(dfTransfer.isFlaggedFraud == 0) & \\\n",
    "(dfTransfer.oldBalanceDest == 0) & (dfTransfer.newBalanceDest == 0)]))) # 4158"
   ]
  },
  {
   "cell_type": "code",
   "execution_count": 96,
   "metadata": {},
   "outputs": [
    {
     "name": "stdout",
     "output_type": "stream",
     "text": "\nMin, Max of oldBalanceOrig for isFlaggedFraud = 1 TRANSFERs: [353874.0, 19585040.0]\n\nMin, Max of oldBalanceOrig for isFlaggedFraud = 0 TRANSFERs where oldBalanceOrig = newBalanceOrig: [0.0, 575668.0]\n"
    }
   ],
   "source": [
    "print('\\nMin, Max of oldBalanceOrig for isFlaggedFraud = 1 TRANSFERs: {}'.\\\n",
    "format([round(dfFlagged.oldBalanceOrig.min()), round(dfFlagged.oldBalanceOrig.max())]))\n",
    "\n",
    "print('\\nMin, Max of oldBalanceOrig for isFlaggedFraud = 0 TRANSFERs where \\\n",
    "oldBalanceOrig = \\\n",
    "newBalanceOrig: {}'.format(\\\n",
    "[dfTransfer.loc[(dfTransfer.isFlaggedFraud == 0) & (dfTransfer.oldBalanceOrig \\\n",
    "== dfTransfer.newBalanceOrig)].oldBalanceOrig.min(), \\\n",
    "round(dfTransfer.loc[(dfTransfer.isFlaggedFraud == 0) & (dfTransfer.oldBalanceOrig \\\n",
    "               == dfTransfer.newBalanceOrig)].oldBalanceOrig.max())]))"
   ]
  },
  {
   "cell_type": "code",
   "execution_count": 97,
   "metadata": {},
   "outputs": [
    {
     "name": "stdout",
     "output_type": "stream",
     "text": "\nHave originators of transactions flagged as fraud transacted more than once? False\n\nHave destinations for transactions flagged as fraud initiated other transactions? False\n\nHow many destination accounts of transactions flagged as fraud have been destination accounts more than once?: 2\n"
    }
   ],
   "source": [
    "print('\\nHave originators of transactions flagged as fraud transacted more than \\\n",
    "once? {}'\\\n",
    ".format((dfFlagged.nameOrig.isin(pd.concat([dfNotFlagged.nameOrig, \\\n",
    "                                    dfNotFlagged.nameDest]))).any())) # False\n",
    "\n",
    "print('\\nHave destinations for transactions flagged as fraud initiated\\\n",
    " other transactions? \\\n",
    "{}'.format((dfFlagged.nameDest.isin(dfNotFlagged.nameOrig)).any())) # False\n",
    "\n",
    "# Since only 2 destination accounts of 16 that have 'isFlaggedFraud' set have been\n",
    "# destination accounts more than once,\n",
    "# clearly 'isFlaggedFraud' being set is independent of whether a \n",
    "# destination account has been used before or not\n",
    "\n",
    "print('\\nHow many destination accounts of transactions flagged as fraud have been \\\n",
    "destination accounts more than once?: {}'\\\n",
    ".format(sum(dfFlagged.nameDest.isin(dfNotFlagged.nameDest)))) # 2"
   ]
  },
  {
   "cell_type": "code",
   "execution_count": 98,
   "metadata": {},
   "outputs": [
    {
     "name": "stdout",
     "output_type": "stream",
     "text": "\nAre there any merchants among originator accounts for CASH_IN transactions? False\n\nAre there any merchants among destination accounts for CASH_OUT transactions? False\n\nAre there merchants among any originator accounts? False\n\nAre there any transactions having merchants among destination accounts other than the PAYMENT type? False\n"
    }
   ],
   "source": [
    "print('\\nAre there any merchants among originator accounts for CASH_IN transactions? {}'.format((df.loc[df.type == 'CASH_IN'].nameOrig.str.contains('M')).any())) # False\n",
    "print('\\nAre there any merchants among destination accounts for CASH_OUT transactions? {}'.format((df.loc[df.type == 'CASH_OUT'].nameDest.str.contains('M')).any())) # False\n",
    "print('\\nAre there merchants among any originator accounts? {}'.format(df.nameOrig.str.contains('M').any())) # False\n",
    "print('\\nAre there any transactions having merchants among destination accounts other than the PAYMENT type? {}'.format((df.loc[df.nameDest.str.contains('M')].type != 'PAYMENT').any())) # False"
   ]
  },
  {
   "cell_type": "code",
   "execution_count": 99,
   "metadata": {},
   "outputs": [
    {
     "name": "stdout",
     "output_type": "stream",
     "text": "\nWithin fraudulent transactions, are there destinations for TRANSFERS that are also originators for CASH_OUTs? False\n"
    }
   ],
   "source": [
    "print('\\nWithin fraudulent transactions, are there destinations for TRANSFERS that are also originators for CASH_OUTs? {}'.format((dfFraudTransfer.nameDest.isin(dfFraudCashout.nameOrig)).any())) # False"
   ]
  },
  {
   "cell_type": "code",
   "execution_count": 100,
   "metadata": {},
   "outputs": [],
   "source": [
    "dfNotFraud = df.loc[df.isFraud == 0]"
   ]
  },
  {
   "cell_type": "code",
   "execution_count": 101,
   "metadata": {},
   "outputs": [
    {
     "name": "stdout",
     "output_type": "stream",
     "text": "\nFraudulent TRANSFERs whose destination accounts are originators of genuine CASH_OUTs:\n"
    },
    {
     "data": {
      "text/html": "<div>\n<style scoped>\n    .dataframe tbody tr th:only-of-type {\n        vertical-align: middle;\n    }\n\n    .dataframe tbody tr th {\n        vertical-align: top;\n    }\n\n    .dataframe thead th {\n        text-align: right;\n    }\n</style>\n<table border=\"1\" class=\"dataframe\">\n  <thead>\n    <tr style=\"text-align: right;\">\n      <th></th>\n      <th>step</th>\n      <th>type</th>\n      <th>amount</th>\n      <th>nameOrig</th>\n      <th>oldBalanceOrig</th>\n      <th>newBalanceOrig</th>\n      <th>nameDest</th>\n      <th>oldBalanceDest</th>\n      <th>newBalanceDest</th>\n      <th>isFraud</th>\n      <th>isFlaggedFraud</th>\n    </tr>\n  </thead>\n  <tbody>\n    <tr>\n      <th>1030443</th>\n      <td>65</td>\n      <td>TRANSFER</td>\n      <td>1282971.57</td>\n      <td>C1175896731</td>\n      <td>1282971.57</td>\n      <td>0.0</td>\n      <td>C1714931087</td>\n      <td>0.0</td>\n      <td>0.0</td>\n      <td>1</td>\n      <td>0</td>\n    </tr>\n    <tr>\n      <th>6039814</th>\n      <td>486</td>\n      <td>TRANSFER</td>\n      <td>214793.32</td>\n      <td>C2140495649</td>\n      <td>214793.32</td>\n      <td>0.0</td>\n      <td>C423543548</td>\n      <td>0.0</td>\n      <td>0.0</td>\n      <td>1</td>\n      <td>0</td>\n    </tr>\n    <tr>\n      <th>6362556</th>\n      <td>738</td>\n      <td>TRANSFER</td>\n      <td>814689.88</td>\n      <td>C2029041842</td>\n      <td>814689.88</td>\n      <td>0.0</td>\n      <td>C1023330867</td>\n      <td>0.0</td>\n      <td>0.0</td>\n      <td>1</td>\n      <td>0</td>\n    </tr>\n  </tbody>\n</table>\n</div>",
      "text/plain": "         step      type      amount     nameOrig  oldBalanceOrig  \\\n1030443    65  TRANSFER  1282971.57  C1175896731      1282971.57   \n6039814   486  TRANSFER   214793.32  C2140495649       214793.32   \n6362556   738  TRANSFER   814689.88  C2029041842       814689.88   \n\n         newBalanceOrig     nameDest  oldBalanceDest  newBalanceDest  isFraud  \\\n1030443             0.0  C1714931087             0.0             0.0        1   \n6039814             0.0   C423543548             0.0             0.0        1   \n6362556             0.0  C1023330867             0.0             0.0        1   \n\n         isFlaggedFraud  \n1030443               0  \n6039814               0  \n6362556               0  "
     },
     "execution_count": 101,
     "metadata": {},
     "output_type": "execute_result"
    }
   ],
   "source": [
    "print('\\nFraudulent TRANSFERs whose destination accounts are originators of genuine CASH_OUTs:')\n",
    "dfFraudTransfer.loc[dfFraudTransfer.nameDest.isin(dfNotFraud.loc[dfNotFraud.type == 'CASH_OUT'].nameOrig.drop_duplicates())]"
   ]
  },
  {
   "cell_type": "code",
   "execution_count": 102,
   "metadata": {},
   "outputs": [
    {
     "name": "stdout",
     "output_type": "stream",
     "text": "\nFraudulent TRANSFER to C423543548 occured at step = 486 whereas genuine CASH_OUT from this account occured earlier at step = [185]\n"
    }
   ],
   "source": [
    "print('\\nFraudulent TRANSFER to C423543548 occured at step = 486 whereas genuine CASH_OUT from this account occured earlier at step = {}'.format(dfNotFraud.loc[(dfNotFraud.type == 'CASH_OUT') & (dfNotFraud.nameOrig == 'C423543548')].step.values)) # 185"
   ]
  },
  {
   "cell_type": "code",
   "execution_count": 103,
   "metadata": {},
   "outputs": [
    {
     "data": {
      "text/html": "<div>\n<style scoped>\n    .dataframe tbody tr th:only-of-type {\n        vertical-align: middle;\n    }\n\n    .dataframe tbody tr th {\n        vertical-align: top;\n    }\n\n    .dataframe thead th {\n        text-align: right;\n    }\n</style>\n<table border=\"1\" class=\"dataframe\">\n  <thead>\n    <tr style=\"text-align: right;\">\n      <th></th>\n      <th>step</th>\n      <th>type</th>\n      <th>amount</th>\n      <th>nameOrig</th>\n      <th>oldBalanceOrig</th>\n      <th>newBalanceOrig</th>\n      <th>nameDest</th>\n      <th>oldBalanceDest</th>\n      <th>newBalanceDest</th>\n      <th>isFraud</th>\n      <th>isFlaggedFraud</th>\n    </tr>\n  </thead>\n  <tbody>\n    <tr>\n      <th>2</th>\n      <td>1</td>\n      <td>TRANSFER</td>\n      <td>181.00</td>\n      <td>C1305486145</td>\n      <td>181.00</td>\n      <td>0.0</td>\n      <td>C553264065</td>\n      <td>0.00</td>\n      <td>0.00</td>\n      <td>1</td>\n      <td>0</td>\n    </tr>\n    <tr>\n      <th>3</th>\n      <td>1</td>\n      <td>CASH_OUT</td>\n      <td>181.00</td>\n      <td>C840083671</td>\n      <td>181.00</td>\n      <td>0.0</td>\n      <td>C38997010</td>\n      <td>21182.00</td>\n      <td>0.00</td>\n      <td>1</td>\n      <td>0</td>\n    </tr>\n    <tr>\n      <th>15</th>\n      <td>1</td>\n      <td>CASH_OUT</td>\n      <td>229133.94</td>\n      <td>C905080434</td>\n      <td>15325.00</td>\n      <td>0.0</td>\n      <td>C476402209</td>\n      <td>5083.00</td>\n      <td>51513.44</td>\n      <td>0</td>\n      <td>0</td>\n    </tr>\n    <tr>\n      <th>19</th>\n      <td>1</td>\n      <td>TRANSFER</td>\n      <td>215310.30</td>\n      <td>C1670993182</td>\n      <td>705.00</td>\n      <td>0.0</td>\n      <td>C1100439041</td>\n      <td>22425.00</td>\n      <td>0.00</td>\n      <td>0</td>\n      <td>0</td>\n    </tr>\n    <tr>\n      <th>24</th>\n      <td>1</td>\n      <td>TRANSFER</td>\n      <td>311685.89</td>\n      <td>C1984094095</td>\n      <td>10835.00</td>\n      <td>0.0</td>\n      <td>C932583850</td>\n      <td>6267.00</td>\n      <td>2719172.89</td>\n      <td>0</td>\n      <td>0</td>\n    </tr>\n    <tr>\n      <th>...</th>\n      <td>...</td>\n      <td>...</td>\n      <td>...</td>\n      <td>...</td>\n      <td>...</td>\n      <td>...</td>\n      <td>...</td>\n      <td>...</td>\n      <td>...</td>\n      <td>...</td>\n      <td>...</td>\n    </tr>\n    <tr>\n      <th>6362615</th>\n      <td>743</td>\n      <td>CASH_OUT</td>\n      <td>339682.13</td>\n      <td>C786484425</td>\n      <td>339682.13</td>\n      <td>0.0</td>\n      <td>C776919290</td>\n      <td>0.00</td>\n      <td>339682.13</td>\n      <td>1</td>\n      <td>0</td>\n    </tr>\n    <tr>\n      <th>6362616</th>\n      <td>743</td>\n      <td>TRANSFER</td>\n      <td>6311409.28</td>\n      <td>C1529008245</td>\n      <td>6311409.28</td>\n      <td>0.0</td>\n      <td>C1881841831</td>\n      <td>0.00</td>\n      <td>0.00</td>\n      <td>1</td>\n      <td>0</td>\n    </tr>\n    <tr>\n      <th>6362617</th>\n      <td>743</td>\n      <td>CASH_OUT</td>\n      <td>6311409.28</td>\n      <td>C1162922333</td>\n      <td>6311409.28</td>\n      <td>0.0</td>\n      <td>C1365125890</td>\n      <td>68488.84</td>\n      <td>6379898.11</td>\n      <td>1</td>\n      <td>0</td>\n    </tr>\n    <tr>\n      <th>6362618</th>\n      <td>743</td>\n      <td>TRANSFER</td>\n      <td>850002.52</td>\n      <td>C1685995037</td>\n      <td>850002.52</td>\n      <td>0.0</td>\n      <td>C2080388513</td>\n      <td>0.00</td>\n      <td>0.00</td>\n      <td>1</td>\n      <td>0</td>\n    </tr>\n    <tr>\n      <th>6362619</th>\n      <td>743</td>\n      <td>CASH_OUT</td>\n      <td>850002.52</td>\n      <td>C1280323807</td>\n      <td>850002.52</td>\n      <td>0.0</td>\n      <td>C873221189</td>\n      <td>6510099.11</td>\n      <td>7360101.63</td>\n      <td>1</td>\n      <td>0</td>\n    </tr>\n  </tbody>\n</table>\n<p>2770409 rows × 11 columns</p>\n</div>",
      "text/plain": "         step      type      amount     nameOrig  oldBalanceOrig  \\\n2           1  TRANSFER      181.00  C1305486145          181.00   \n3           1  CASH_OUT      181.00   C840083671          181.00   \n15          1  CASH_OUT   229133.94   C905080434        15325.00   \n19          1  TRANSFER   215310.30  C1670993182          705.00   \n24          1  TRANSFER   311685.89  C1984094095        10835.00   \n...       ...       ...         ...          ...             ...   \n6362615   743  CASH_OUT   339682.13   C786484425       339682.13   \n6362616   743  TRANSFER  6311409.28  C1529008245      6311409.28   \n6362617   743  CASH_OUT  6311409.28  C1162922333      6311409.28   \n6362618   743  TRANSFER   850002.52  C1685995037       850002.52   \n6362619   743  CASH_OUT   850002.52  C1280323807       850002.52   \n\n         newBalanceOrig     nameDest  oldBalanceDest  newBalanceDest  isFraud  \\\n2                   0.0   C553264065            0.00            0.00        1   \n3                   0.0    C38997010        21182.00            0.00        1   \n15                  0.0   C476402209         5083.00        51513.44        0   \n19                  0.0  C1100439041        22425.00            0.00        0   \n24                  0.0   C932583850         6267.00      2719172.89        0   \n...                 ...          ...             ...             ...      ...   \n6362615             0.0   C776919290            0.00       339682.13        1   \n6362616             0.0  C1881841831            0.00            0.00        1   \n6362617             0.0  C1365125890        68488.84      6379898.11        1   \n6362618             0.0  C2080388513            0.00            0.00        1   \n6362619             0.0   C873221189      6510099.11      7360101.63        1   \n\n         isFlaggedFraud  \n2                     0  \n3                     0  \n15                    0  \n19                    0  \n24                    0  \n...                 ...  \n6362615               0  \n6362616               0  \n6362617               0  \n6362618               0  \n6362619               0  \n\n[2770409 rows x 11 columns]"
     },
     "execution_count": 103,
     "metadata": {},
     "output_type": "execute_result"
    }
   ],
   "source": [
    "X = df.loc[(df.type == 'TRANSFER') | (df.type == 'CASH_OUT')]\n",
    "Y = X['isFraud']\n",
    "\n",
    "# Eliminate columns shown to be irrelevant for analysis in the EDA\n",
    "X.drop(['isFraud','nameOrig', 'nameDest', 'isFlaggedFraud'], axis = 1)\n",
    "X"
   ]
  },
  {
   "cell_type": "code",
   "execution_count": 104,
   "metadata": {},
   "outputs": [],
   "source": [
    "# Binary-encoding of labelled data in 'type'\n",
    "X = X.replace(['TRANSFER','CASH_OUT'],[0,1])\n",
    "# X.dtypes"
   ]
  },
  {
   "cell_type": "code",
   "execution_count": 105,
   "metadata": {},
   "outputs": [
    {
     "name": "stdout",
     "output_type": "stream",
     "text": "\nThe fraction of fraudulent transactions with 'oldBalanceDest' = 'newBalanceDest' = 0 \nalthough the transacted 'amount' is non-zero is: 49.55558261293072%\n\nThe fraction of genuine transactions with 'oldBalanceDest' = 'newBalanceDest' = 0 \nalthough the transacted 'amount' is non-zero is: 0.061762452773083454%\n"
    }
   ],
   "source": [
    "Xfraud = X.loc[Y == 1]\n",
    "XnonFraud = X.loc[Y == 0]\n",
    "\n",
    "print('\\nThe fraction of fraudulent transactions with \\'oldBalanceDest\\' = \\'newBalanceDest\\' = 0 \\nalthough the transacted \\'amount\\' is non-zero is: {}%'.\\\n",
    "format(len(Xfraud.loc[(Xfraud.oldBalanceDest == 0) & (Xfraud.newBalanceDest == 0) & (Xfraud.amount)]) / len(Xfraud)*100))\n",
    "\n",
    "print('\\nThe fraction of genuine transactions with \\'oldBalanceDest\\' = \\'newBalanceDest\\' = 0 \\nalthough the transacted \\'amount\\' is non-zero is: {}%'.\\\n",
    "format(len(XnonFraud.loc[(XnonFraud.oldBalanceDest == 0) & (XnonFraud.newBalanceDest == 0) & (XnonFraud.amount)]) / len(XnonFraud)*100))"
   ]
  },
  {
   "cell_type": "code",
   "execution_count": 106,
   "metadata": {},
   "outputs": [
    {
     "data": {
      "text/html": "<div>\n<style scoped>\n    .dataframe tbody tr th:only-of-type {\n        vertical-align: middle;\n    }\n\n    .dataframe tbody tr th {\n        vertical-align: top;\n    }\n\n    .dataframe thead th {\n        text-align: right;\n    }\n</style>\n<table border=\"1\" class=\"dataframe\">\n  <thead>\n    <tr style=\"text-align: right;\">\n      <th></th>\n      <th>step</th>\n      <th>type</th>\n      <th>amount</th>\n      <th>nameOrig</th>\n      <th>oldBalanceOrig</th>\n      <th>newBalanceOrig</th>\n      <th>nameDest</th>\n      <th>oldBalanceDest</th>\n      <th>newBalanceDest</th>\n      <th>isFraud</th>\n      <th>isFlaggedFraud</th>\n    </tr>\n  </thead>\n  <tbody>\n    <tr>\n      <th>2</th>\n      <td>1</td>\n      <td>0</td>\n      <td>181.00</td>\n      <td>C1305486145</td>\n      <td>181.00</td>\n      <td>0.0</td>\n      <td>C553264065</td>\n      <td>-1.00</td>\n      <td>-1.00</td>\n      <td>1</td>\n      <td>0</td>\n    </tr>\n    <tr>\n      <th>3</th>\n      <td>1</td>\n      <td>1</td>\n      <td>181.00</td>\n      <td>C840083671</td>\n      <td>181.00</td>\n      <td>0.0</td>\n      <td>C38997010</td>\n      <td>21182.00</td>\n      <td>0.00</td>\n      <td>1</td>\n      <td>0</td>\n    </tr>\n    <tr>\n      <th>15</th>\n      <td>1</td>\n      <td>1</td>\n      <td>229133.94</td>\n      <td>C905080434</td>\n      <td>15325.00</td>\n      <td>0.0</td>\n      <td>C476402209</td>\n      <td>5083.00</td>\n      <td>51513.44</td>\n      <td>0</td>\n      <td>0</td>\n    </tr>\n    <tr>\n      <th>19</th>\n      <td>1</td>\n      <td>0</td>\n      <td>215310.30</td>\n      <td>C1670993182</td>\n      <td>705.00</td>\n      <td>0.0</td>\n      <td>C1100439041</td>\n      <td>22425.00</td>\n      <td>0.00</td>\n      <td>0</td>\n      <td>0</td>\n    </tr>\n    <tr>\n      <th>24</th>\n      <td>1</td>\n      <td>0</td>\n      <td>311685.89</td>\n      <td>C1984094095</td>\n      <td>10835.00</td>\n      <td>0.0</td>\n      <td>C932583850</td>\n      <td>6267.00</td>\n      <td>2719172.89</td>\n      <td>0</td>\n      <td>0</td>\n    </tr>\n    <tr>\n      <th>...</th>\n      <td>...</td>\n      <td>...</td>\n      <td>...</td>\n      <td>...</td>\n      <td>...</td>\n      <td>...</td>\n      <td>...</td>\n      <td>...</td>\n      <td>...</td>\n      <td>...</td>\n      <td>...</td>\n    </tr>\n    <tr>\n      <th>6362615</th>\n      <td>743</td>\n      <td>1</td>\n      <td>339682.13</td>\n      <td>C786484425</td>\n      <td>339682.13</td>\n      <td>0.0</td>\n      <td>C776919290</td>\n      <td>0.00</td>\n      <td>339682.13</td>\n      <td>1</td>\n      <td>0</td>\n    </tr>\n    <tr>\n      <th>6362616</th>\n      <td>743</td>\n      <td>0</td>\n      <td>6311409.28</td>\n      <td>C1529008245</td>\n      <td>6311409.28</td>\n      <td>0.0</td>\n      <td>C1881841831</td>\n      <td>-1.00</td>\n      <td>-1.00</td>\n      <td>1</td>\n      <td>0</td>\n    </tr>\n    <tr>\n      <th>6362617</th>\n      <td>743</td>\n      <td>1</td>\n      <td>6311409.28</td>\n      <td>C1162922333</td>\n      <td>6311409.28</td>\n      <td>0.0</td>\n      <td>C1365125890</td>\n      <td>68488.84</td>\n      <td>6379898.11</td>\n      <td>1</td>\n      <td>0</td>\n    </tr>\n    <tr>\n      <th>6362618</th>\n      <td>743</td>\n      <td>0</td>\n      <td>850002.52</td>\n      <td>C1685995037</td>\n      <td>850002.52</td>\n      <td>0.0</td>\n      <td>C2080388513</td>\n      <td>-1.00</td>\n      <td>-1.00</td>\n      <td>1</td>\n      <td>0</td>\n    </tr>\n    <tr>\n      <th>6362619</th>\n      <td>743</td>\n      <td>1</td>\n      <td>850002.52</td>\n      <td>C1280323807</td>\n      <td>850002.52</td>\n      <td>0.0</td>\n      <td>C873221189</td>\n      <td>6510099.11</td>\n      <td>7360101.63</td>\n      <td>1</td>\n      <td>0</td>\n    </tr>\n  </tbody>\n</table>\n<p>2770409 rows × 11 columns</p>\n</div>",
      "text/plain": "         step  type      amount     nameOrig  oldBalanceOrig  newBalanceOrig  \\\n2           1     0      181.00  C1305486145          181.00             0.0   \n3           1     1      181.00   C840083671          181.00             0.0   \n15          1     1   229133.94   C905080434        15325.00             0.0   \n19          1     0   215310.30  C1670993182          705.00             0.0   \n24          1     0   311685.89  C1984094095        10835.00             0.0   \n...       ...   ...         ...          ...             ...             ...   \n6362615   743     1   339682.13   C786484425       339682.13             0.0   \n6362616   743     0  6311409.28  C1529008245      6311409.28             0.0   \n6362617   743     1  6311409.28  C1162922333      6311409.28             0.0   \n6362618   743     0   850002.52  C1685995037       850002.52             0.0   \n6362619   743     1   850002.52  C1280323807       850002.52             0.0   \n\n            nameDest  oldBalanceDest  newBalanceDest  isFraud  isFlaggedFraud  \n2         C553264065           -1.00           -1.00        1               0  \n3          C38997010        21182.00            0.00        1               0  \n15        C476402209         5083.00        51513.44        0               0  \n19       C1100439041        22425.00            0.00        0               0  \n24        C932583850         6267.00      2719172.89        0               0  \n...              ...             ...             ...      ...             ...  \n6362615   C776919290            0.00       339682.13        1               0  \n6362616  C1881841831           -1.00           -1.00        1               0  \n6362617  C1365125890        68488.84      6379898.11        1               0  \n6362618  C2080388513           -1.00           -1.00        1               0  \n6362619   C873221189      6510099.11      7360101.63        1               0  \n\n[2770409 rows x 11 columns]"
     },
     "execution_count": 106,
     "metadata": {},
     "output_type": "execute_result"
    }
   ],
   "source": [
    "X.loc[(X.oldBalanceDest == 0) & (X.newBalanceDest == 0) & (X.amount != 0), ['oldBalanceDest', 'newBalanceDest']] = - 1\n",
    "X"
   ]
  },
  {
   "cell_type": "code",
   "execution_count": 107,
   "metadata": {},
   "outputs": [
    {
     "name": "stdout",
     "output_type": "stream",
     "text": "Number of -1 values in oldBalanceDest is 5776\nNumber of -1 values in oldBalanceDest is 5776\n"
    }
   ],
   "source": [
    "print('Number of -1 values in oldBalanceDest is {}'.format(X.groupby(['oldBalanceDest']).size()[-1]))\n",
    "print('Number of -1 values in oldBalanceDest is {}'.format(X.groupby(['oldBalanceDest']).size()[-1]))"
   ]
  },
  {
   "cell_type": "code",
   "execution_count": 108,
   "metadata": {},
   "outputs": [
    {
     "name": "stdout",
     "output_type": "stream",
     "text": "\nThe fraction of fraudulent transactions with 'oldBalanceOrig' = 'newBalanceOrig' = 0 \nalthough the transacted 'amount' is non-zero is: 0.30439547059539757%\n\nThe fraction of genuine transactions with 'oldBalanceOrig' = 'newBalanceOrig' = 0 \nalthough the transacted 'amount' is non-zero is: 47.37321319703598%\n"
    }
   ],
   "source": [
    "print('\\nThe fraction of fraudulent transactions with \\'oldBalanceOrig\\' = \\'newBalanceOrig\\' = 0 \\nalthough the transacted \\'amount\\' is non-zero is: {}%'.\\\n",
    "format(len(Xfraud.loc[(Xfraud.oldBalanceOrig == 0) & (Xfraud.newBalanceOrig == 0) & (Xfraud.amount)]) / len(Xfraud)*100))\n",
    "\n",
    "print('\\nThe fraction of genuine transactions with \\'oldBalanceOrig\\' = \\'newBalanceOrig\\' = 0 \\nalthough the transacted \\'amount\\' is non-zero is: {}%'.\\\n",
    "format(len(XnonFraud.loc[(XnonFraud.oldBalanceOrig == 0) & (XnonFraud.newBalanceOrig == 0) & (XnonFraud.amount)]) / len(XnonFraud)*100))"
   ]
  },
  {
   "cell_type": "code",
   "execution_count": 109,
   "metadata": {},
   "outputs": [
    {
     "data": {
      "text/html": "<div>\n<style scoped>\n    .dataframe tbody tr th:only-of-type {\n        vertical-align: middle;\n    }\n\n    .dataframe tbody tr th {\n        vertical-align: top;\n    }\n\n    .dataframe thead th {\n        text-align: right;\n    }\n</style>\n<table border=\"1\" class=\"dataframe\">\n  <thead>\n    <tr style=\"text-align: right;\">\n      <th></th>\n      <th>step</th>\n      <th>type</th>\n      <th>amount</th>\n      <th>nameOrig</th>\n      <th>oldBalanceOrig</th>\n      <th>newBalanceOrig</th>\n      <th>nameDest</th>\n      <th>oldBalanceDest</th>\n      <th>newBalanceDest</th>\n      <th>isFraud</th>\n      <th>isFlaggedFraud</th>\n    </tr>\n  </thead>\n  <tbody>\n    <tr>\n      <th>2</th>\n      <td>1</td>\n      <td>0</td>\n      <td>181.00</td>\n      <td>C1305486145</td>\n      <td>181.00</td>\n      <td>0.0</td>\n      <td>C553264065</td>\n      <td>-1.00</td>\n      <td>-1.00</td>\n      <td>1</td>\n      <td>0</td>\n    </tr>\n    <tr>\n      <th>3</th>\n      <td>1</td>\n      <td>1</td>\n      <td>181.00</td>\n      <td>C840083671</td>\n      <td>181.00</td>\n      <td>0.0</td>\n      <td>C38997010</td>\n      <td>21182.00</td>\n      <td>0.00</td>\n      <td>1</td>\n      <td>0</td>\n    </tr>\n    <tr>\n      <th>15</th>\n      <td>1</td>\n      <td>1</td>\n      <td>229133.94</td>\n      <td>C905080434</td>\n      <td>15325.00</td>\n      <td>0.0</td>\n      <td>C476402209</td>\n      <td>5083.00</td>\n      <td>51513.44</td>\n      <td>0</td>\n      <td>0</td>\n    </tr>\n    <tr>\n      <th>19</th>\n      <td>1</td>\n      <td>0</td>\n      <td>215310.30</td>\n      <td>C1670993182</td>\n      <td>705.00</td>\n      <td>0.0</td>\n      <td>C1100439041</td>\n      <td>22425.00</td>\n      <td>0.00</td>\n      <td>0</td>\n      <td>0</td>\n    </tr>\n    <tr>\n      <th>24</th>\n      <td>1</td>\n      <td>0</td>\n      <td>311685.89</td>\n      <td>C1984094095</td>\n      <td>10835.00</td>\n      <td>0.0</td>\n      <td>C932583850</td>\n      <td>6267.00</td>\n      <td>2719172.89</td>\n      <td>0</td>\n      <td>0</td>\n    </tr>\n    <tr>\n      <th>...</th>\n      <td>...</td>\n      <td>...</td>\n      <td>...</td>\n      <td>...</td>\n      <td>...</td>\n      <td>...</td>\n      <td>...</td>\n      <td>...</td>\n      <td>...</td>\n      <td>...</td>\n      <td>...</td>\n    </tr>\n    <tr>\n      <th>6362615</th>\n      <td>743</td>\n      <td>1</td>\n      <td>339682.13</td>\n      <td>C786484425</td>\n      <td>339682.13</td>\n      <td>0.0</td>\n      <td>C776919290</td>\n      <td>0.00</td>\n      <td>339682.13</td>\n      <td>1</td>\n      <td>0</td>\n    </tr>\n    <tr>\n      <th>6362616</th>\n      <td>743</td>\n      <td>0</td>\n      <td>6311409.28</td>\n      <td>C1529008245</td>\n      <td>6311409.28</td>\n      <td>0.0</td>\n      <td>C1881841831</td>\n      <td>-1.00</td>\n      <td>-1.00</td>\n      <td>1</td>\n      <td>0</td>\n    </tr>\n    <tr>\n      <th>6362617</th>\n      <td>743</td>\n      <td>1</td>\n      <td>6311409.28</td>\n      <td>C1162922333</td>\n      <td>6311409.28</td>\n      <td>0.0</td>\n      <td>C1365125890</td>\n      <td>68488.84</td>\n      <td>6379898.11</td>\n      <td>1</td>\n      <td>0</td>\n    </tr>\n    <tr>\n      <th>6362618</th>\n      <td>743</td>\n      <td>0</td>\n      <td>850002.52</td>\n      <td>C1685995037</td>\n      <td>850002.52</td>\n      <td>0.0</td>\n      <td>C2080388513</td>\n      <td>-1.00</td>\n      <td>-1.00</td>\n      <td>1</td>\n      <td>0</td>\n    </tr>\n    <tr>\n      <th>6362619</th>\n      <td>743</td>\n      <td>1</td>\n      <td>850002.52</td>\n      <td>C1280323807</td>\n      <td>850002.52</td>\n      <td>0.0</td>\n      <td>C873221189</td>\n      <td>6510099.11</td>\n      <td>7360101.63</td>\n      <td>1</td>\n      <td>0</td>\n    </tr>\n  </tbody>\n</table>\n<p>2770409 rows × 11 columns</p>\n</div>",
      "text/plain": "         step  type      amount     nameOrig  oldBalanceOrig  newBalanceOrig  \\\n2           1     0      181.00  C1305486145          181.00             0.0   \n3           1     1      181.00   C840083671          181.00             0.0   \n15          1     1   229133.94   C905080434        15325.00             0.0   \n19          1     0   215310.30  C1670993182          705.00             0.0   \n24          1     0   311685.89  C1984094095        10835.00             0.0   \n...       ...   ...         ...          ...             ...             ...   \n6362615   743     1   339682.13   C786484425       339682.13             0.0   \n6362616   743     0  6311409.28  C1529008245      6311409.28             0.0   \n6362617   743     1  6311409.28  C1162922333      6311409.28             0.0   \n6362618   743     0   850002.52  C1685995037       850002.52             0.0   \n6362619   743     1   850002.52  C1280323807       850002.52             0.0   \n\n            nameDest  oldBalanceDest  newBalanceDest  isFraud  isFlaggedFraud  \n2         C553264065           -1.00           -1.00        1               0  \n3          C38997010        21182.00            0.00        1               0  \n15        C476402209         5083.00        51513.44        0               0  \n19       C1100439041        22425.00            0.00        0               0  \n24        C932583850         6267.00      2719172.89        0               0  \n...              ...             ...             ...      ...             ...  \n6362615   C776919290            0.00       339682.13        1               0  \n6362616  C1881841831           -1.00           -1.00        1               0  \n6362617  C1365125890        68488.84      6379898.11        1               0  \n6362618  C2080388513           -1.00           -1.00        1               0  \n6362619   C873221189      6510099.11      7360101.63        1               0  \n\n[2770409 rows x 11 columns]"
     },
     "execution_count": 109,
     "metadata": {},
     "output_type": "execute_result"
    }
   ],
   "source": [
    "X.loc[(X.oldBalanceOrig == 0) & (X.newBalanceOrig == 0) & (X.amount != 0), ['oldBalanceOrig', 'newBalanceOrig']] = np.nan\n",
    "X"
   ]
  },
  {
   "cell_type": "code",
   "execution_count": 110,
   "metadata": {},
   "outputs": [
    {
     "name": "stdout",
     "output_type": "stream",
     "text": "Number of 'NaN' values in newBalanceOrig is 1308566\nNumber of valid values in newBalanceOrig is 1461843\n"
    }
   ],
   "source": [
    "print('Number of \\'NaN\\' values in newBalanceOrig is {}'.format(X.newBalanceOrig.isna().sum()))\n",
    "print('Number of valid values in newBalanceOrig is {}'.format(X.newBalanceOrig.count()))"
   ]
  }
 ]
}